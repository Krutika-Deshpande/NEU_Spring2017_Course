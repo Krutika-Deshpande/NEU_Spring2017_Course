{
 "cells": [
  {
   "cell_type": "markdown",
   "metadata": {},
   "source": [
    "Question 7\n",
    "\n",
    "1. Use Name corpus, calculate the probability of a name being of a male or female base on the last character(s) of name.\n",
    "2. Sample steps:\n",
    "For char ‘a’:\n",
    "\ttotal_names = sum(names ending with ‘a’)\n",
    "\tmale_names = sum(male names ending with ‘a’)\n",
    "\tfemale_names = sum(female names ending with ‘a’)\n",
    "\tProbability of name being male = 100 * male_names / total_names\n",
    "3. Do this for all characters. \n",
    "Output must come with proper title (e.g. [a] male: 25%, female: 60%)\n"
   ]
  },
  {
   "cell_type": "code",
   "execution_count": 362,
   "metadata": {
    "collapsed": true
   },
   "outputs": [],
   "source": [
    "import nltk"
   ]
  },
  {
   "cell_type": "code",
   "execution_count": 363,
   "metadata": {
    "collapsed": false
   },
   "outputs": [
    {
     "name": "stdout",
     "output_type": "stream",
     "text": [
      "Sum of names ending with a for female is 1773 and for male is 29 Total Count: 1802 \n",
      "[Probability for a]:  Female : 98.39 %     Male: 1.61 %\n",
      "Sum of names ending with b for female is 9 and for male is 21 Total Count: 30 \n",
      "[Probability for a]:  Female : 30.0 %     Male: 70.0 %\n",
      "Sum of names ending with c for female is 0 and for male is 25 Total Count: 25 \n",
      "[Probability for a]:  Female : 0.0 %     Male: 100.0 %\n",
      "Sum of names ending with d for female is 39 and for male is 228 Total Count: 267 \n",
      "[Probability for a]:  Female : 14.61 %     Male: 85.39 %\n",
      "Sum of names ending with e for female is 1432 and for male is 468 Total Count: 1900 \n",
      "[Probability for a]:  Female : 75.37 %     Male: 24.63 %\n",
      "Sum of names ending with f for female is 2 and for male is 25 Total Count: 27 \n",
      "[Probability for a]:  Female : 7.41 %     Male: 92.59 %\n",
      "Sum of names ending with g for female is 10 and for male is 32 Total Count: 42 \n",
      "[Probability for a]:  Female : 23.81 %     Male: 76.19 %\n",
      "Sum of names ending with h for female is 105 and for male is 93 Total Count: 198 \n",
      "[Probability for a]:  Female : 53.03 %     Male: 46.97 %\n",
      "Sum of names ending with i for female is 317 and for male is 50 Total Count: 367 \n",
      "[Probability for a]:  Female : 86.38 %     Male: 13.62 %\n",
      "Sum of names ending with j for female is 1 and for male is 3 Total Count: 4 \n",
      "[Probability for a]:  Female : 25.0 %     Male: 75.0 %\n",
      "Sum of names ending with k for female is 3 and for male is 69 Total Count: 72 \n",
      "[Probability for a]:  Female : 4.17 %     Male: 95.83 %\n",
      "Sum of names ending with l for female is 179 and for male is 187 Total Count: 366 \n",
      "[Probability for a]:  Female : 48.91 %     Male: 51.09 %\n",
      "Sum of names ending with m for female is 13 and for male is 70 Total Count: 83 \n",
      "[Probability for a]:  Female : 15.66 %     Male: 84.34 %\n",
      "Sum of names ending with n for female is 386 and for male is 478 Total Count: 864 \n",
      "[Probability for a]:  Female : 44.68 %     Male: 55.32 %\n",
      "Sum of names ending with o for female is 33 and for male is 165 Total Count: 198 \n",
      "[Probability for a]:  Female : 16.67 %     Male: 83.33 %\n",
      "Sum of names ending with p for female is 2 and for male is 18 Total Count: 20 \n",
      "[Probability for a]:  Female : 10.0 %     Male: 90.0 %\n",
      "Sum of names ending with q for female is 0 and for male is 0 Total Count: 20 \n",
      "[Probability for a]:  Female : 10.0 %     Male: 90.0 %\n",
      "Sum of names ending with r for female is 47 and for male is 190 Total Count: 237 \n",
      "[Probability for a]:  Female : 19.83 %     Male: 80.17 %\n",
      "Sum of names ending with s for female is 93 and for male is 230 Total Count: 323 \n",
      "[Probability for a]:  Female : 28.79 %     Male: 71.21 %\n",
      "Sum of names ending with t for female is 68 and for male is 164 Total Count: 232 \n",
      "[Probability for a]:  Female : 29.31 %     Male: 70.69 %\n",
      "Sum of names ending with u for female is 6 and for male is 12 Total Count: 18 \n",
      "[Probability for a]:  Female : 33.33 %     Male: 66.67 %\n",
      "Sum of names ending with v for female is 2 and for male is 16 Total Count: 18 \n",
      "[Probability for a]:  Female : 11.11 %     Male: 88.89 %\n",
      "Sum of names ending with w for female is 5 and for male is 17 Total Count: 22 \n",
      "[Probability for a]:  Female : 22.73 %     Male: 77.27 %\n",
      "Sum of names ending with x for female is 10 and for male is 10 Total Count: 20 \n",
      "[Probability for a]:  Female : 50.0 %     Male: 50.0 %\n",
      "Sum of names ending with y for female is 461 and for male is 332 Total Count: 793 \n",
      "[Probability for a]:  Female : 58.13 %     Male: 41.87 %\n",
      "Sum of names ending with z for female is 4 and for male is 11 Total Count: 15 \n",
      "[Probability for a]:  Female : 26.67 %     Male: 73.33 %\n"
     ]
    }
   ],
   "source": [
    "import string\n",
    "female=nltk.corpus.names.words('female.txt')\n",
    "\n",
    "male=nltk.corpus.names.words('male.txt')\n",
    "\n",
    "alphabets=list(string.ascii_lowercase)\n",
    "#alpha=tuple(item for item in alphabets)\n",
    "count=0\n",
    "t=0\n",
    "#print(alphabets,female)\n",
    "for a in alphabets:\n",
    "    t+=1\n",
    "    femalecount=0\n",
    "    malecount=0\n",
    "    for f in female:\n",
    "        if f.lower()[-1]==a:\n",
    "            femalecount+=1\n",
    "    for m in male:\n",
    "        if m.lower()[-1]==a:\n",
    "            malecount+=1\n",
    "            total= femalecount+malecount\n",
    "            maleProb=100*malecount/total\n",
    "            femaleProb=100*femalecount/total\n",
    "    print(\"Sum of names ending with\",a,\"for female is\",femalecount,\"and for male is\",malecount,  \"Total Count:\", total,\"\\n[Probability for a]:  Female :\", round(femaleProb,2),'%','   ',\"Male:\" ,round(maleProb,2),'%')\n"
   ]
  }
 ],
 "metadata": {
  "anaconda-cloud": {},
  "kernelspec": {
   "display_name": "Python [conda root]",
   "language": "python",
   "name": "conda-root-py"
  },
  "language_info": {
   "codemirror_mode": {
    "name": "ipython",
    "version": 3
   },
   "file_extension": ".py",
   "mimetype": "text/x-python",
   "name": "python",
   "nbconvert_exporter": "python",
   "pygments_lexer": "ipython3",
   "version": "3.5.2"
  }
 },
 "nbformat": 4,
 "nbformat_minor": 1
}
