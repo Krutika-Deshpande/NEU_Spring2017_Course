{
 "cells": [
  {
   "cell_type": "code",
   "execution_count": 1,
   "metadata": {
    "collapsed": true
   },
   "outputs": [],
   "source": [
    "import requests\n",
    "import urllib.parse\n",
    "import json\n",
    "api_key='83a378c1f7d34a24a4df745801b753ef'\n",
    "date = 20121201\n",
    "page = 1"
   ]
  },
  {
   "cell_type": "code",
   "execution_count": 20,
   "metadata": {
    "collapsed": false
   },
   "outputs": [
    {
     "name": "stdout",
     "output_type": "stream",
     "text": [
      "20\n"
     ]
    }
   ],
   "source": [
    "url = \"https://api.nytimes.com/svc/archive/v1/2016/1.json?begin_date=\" + str(date) + \"&end_date=\" + str(date) + \"&page=\" + str(page) + \"&api-key=\" + str(api_key)\n",
    "response = requests.get(url).json()\n",
    "with open(str(date) + '_archive_' + str(page)+ '.json', 'w') as fp:\n",
    "    json.dump(response, fp)\n",
    "    page += 1\n",
    "    date += 1\n",
    "    print(page)\n",
    "   \n"
   ]
  },
  {
   "cell_type": "code",
   "execution_count": 23,
   "metadata": {
    "collapsed": true
   },
   "outputs": [],
   "source": [
    "import os\n",
    "newpath = r'\\users\\kruts\\Documents\\GitHub\\deshpande_krutika_001280718_Spring2017\\Midterm\\MidtermArchive\\ArchiveData' \n",
    "if not os.path.exists(newpath):\n",
    "    os.makedirs(newpath)"
   ]
  },
  {
   "cell_type": "code",
   "execution_count": 24,
   "metadata": {
    "collapsed": false
   },
   "outputs": [
    {
     "name": "stdout",
     "output_type": "stream",
     "text": [
      "20121201_archive_1.json\n",
      "20121202_archive_2.json\n",
      "20121203_archive_3.json\n",
      "20121204_archive_4.json\n",
      "20121205_archive_5.json\n",
      "20121206_archive_6.json\n",
      "20121207_archive_7.json\n",
      "20121208_archive_8.json\n",
      "20121209_archive_9.json\n",
      "20121210_archive_10.json\n",
      "20121211_archive_11.json\n",
      "20121212_archive_12.json\n",
      "20121213_archive_13.json\n",
      "20121214_archive_14.json\n",
      "20121215_archive_15.json\n",
      "20121216_archive_16.json\n",
      "20121217_archive_17.json\n",
      "20121218_archive_18.json\n",
      "20121219_archive_19.json\n",
      "20121201_archive_1.json\n",
      "20121202_archive_2.json\n",
      "20121203_archive_3.json\n",
      "20121204_archive_4.json\n",
      "20121205_archive_5.json\n",
      "20121206_archive_6.json\n",
      "20121207_archive_7.json\n",
      "20121208_archive_8.json\n",
      "20121209_archive_9.json\n",
      "20121210_archive_10.json\n",
      "20121211_archive_11.json\n",
      "20121212_archive_12.json\n",
      "20121213_archive_13.json\n",
      "20121214_archive_14.json\n",
      "20121215_archive_15.json\n",
      "20121216_archive_16.json\n",
      "20121217_archive_17.json\n",
      "20121218_archive_18.json\n",
      "20121219_archive_19.json\n"
     ]
    }
   ],
   "source": [
    "from shutil import copy\n",
    "from collections import Counter\n",
    "rootdir = '\\\\Users\\\\kruts\\\\Documents\\\\GitHub\\\\deshpande_krutika_001280718_Spring2017\\\\Midterm\\\\MidtermArchive'\n",
    "for root, dirs, files in os.walk(rootdir):\n",
    "    for name in files:\n",
    "         if name.endswith((\".json\")):\n",
    "            print(name)\n",
    "            copy(rootdir+'\\\\'+name, newpath)"
   ]
  },
  {
   "cell_type": "code",
   "execution_count": 25,
   "metadata": {
    "collapsed": true
   },
   "outputs": [],
   "source": [
    "import os, json\n",
    "import pandas as pd\n",
    "import shutil\n",
    "path_to_json = '\\\\users\\\\kruts\\\\Documents\\\\GitHub\\\\deshpande_krutika_001280718_Spring2017\\\\Midterm\\\\MidtermArchive\\\\ArchiveData'\n",
    "path_file= '\\\\users\\\\kruts\\\\Documents\\\\GitHub\\\\deshpande_krutika_001280718_Spring2017\\\\Midterm\\\\MidtermArchive\\\\ArchiveResult'\n",
    "#path = '\\\\users\\\\kruts\\\\Midterm2Result'\n",
    "json_files = [pos_json for pos_json in os.listdir(path_to_json) if pos_json.endswith('.json')]\n",
    "#print (json_files) \n",
    "\n",
    "def ensure_dir(path_file):\n",
    "    #directory = os.path.dirname(path_file)\n",
    "    #print(path_file)\n",
    "    if not os.path.exists(path_file):\n",
    "        os.makedirs(path_file)\n",
    "        #print(path_file)\n",
    "    #return directory"
   ]
  },
  {
   "cell_type": "code",
   "execution_count": null,
   "metadata": {
    "collapsed": true
   },
   "outputs": [],
   "source": [
    "import json\n",
    "import glob\n",
    "file = \"*.json\"\n",
    "\n",
    "from shutil import copy\n",
    "for js in glob.glob(os.path.join(path_to_json,file)):\n",
    "            json_file_read = json.loads(open(js).read())\n",
    "            for key,value in json_file_read.items():\n",
    "                #print(key)\n",
    "                if key == \"response\": # creation of folders\n",
    "                    docs = value.get('docs')\n",
    "                    for article in docs :\n",
    "                        sect_name = article.get('section_name')\n",
    "                        sect_name = str(sect_name).replace(\"/\",\" \")\n",
    "                        sect_name = str(sect_name).replace(\":\",\" \")\n",
    "                        #hits = meta.get('hits')\n",
    "                        path = os.path.join(path_file + '\\\\' + str(sect_name))\n",
    "                        #path = os.path.join(path + '/' + hits)\n",
    "                        #print(path)\n",
    "                        ensure_dir(path)\n",
    "                        copy(js,path)"
   ]
  }
 ],
 "metadata": {
  "anaconda-cloud": {},
  "kernelspec": {
   "display_name": "Python [conda root]",
   "language": "python",
   "name": "conda-root-py"
  },
  "language_info": {
   "codemirror_mode": {
    "name": "ipython",
    "version": 3
   },
   "file_extension": ".py",
   "mimetype": "text/x-python",
   "name": "python",
   "nbconvert_exporter": "python",
   "pygments_lexer": "ipython3",
   "version": "3.5.2"
  }
 },
 "nbformat": 4,
 "nbformat_minor": 1
}
