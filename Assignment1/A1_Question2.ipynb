{
 "cells": [
  {
   "cell_type": "markdown",
   "metadata": {},
   "source": [
    "Question 2\n",
    "\n",
    "1. Under package Gutenberg get content from file 'melville-moby_dick.txt.' (HINT: Words? Raw?)\n",
    "2. Find out frequency of 26 characters. (Turn uppercase into lowercase and count as one character)\n",
    "3. List all 26 characters in order base on their frequency. (From most frequent to least frequent)\n",
    "Try NOT to use FreqDist module.\n"
   ]
  },
  {
   "cell_type": "code",
   "execution_count": 1,
   "metadata": {
    "collapsed": true
   },
   "outputs": [],
   "source": [
    "import nltk"
   ]
  },
  {
   "cell_type": "code",
   "execution_count": 2,
   "metadata": {
    "collapsed": false
   },
   "outputs": [],
   "source": [
    "content = nltk.corpus.gutenberg.raw('melville-moby_dick.txt') #content of the file melville-moby_dick.txt"
   ]
  },
  {
   "cell_type": "code",
   "execution_count": 3,
   "metadata": {
    "collapsed": false
   },
   "outputs": [],
   "source": [
    "lowercase = content.lower() #Converting the content to lowercase\n",
    "import re\n",
    "x = re.sub('[^a-zA-Z]', '', lowercase) #extracting only 26 characters from the content"
   ]
  },
  {
   "cell_type": "code",
   "execution_count": 4,
   "metadata": {
    "collapsed": false
   },
   "outputs": [],
   "source": [
    "characters = list(x)  # Listing the 26 characters separately"
   ]
  },
  {
   "cell_type": "code",
   "execution_count": 5,
   "metadata": {
    "collapsed": false
   },
   "outputs": [
    {
     "name": "stdout",
     "output_type": "stream",
     "text": [
      "Characters and their frequency is : [('e', 117092), ('t', 87996), ('a', 77916), ('o', 69326), ('n', 65617), ('i', 65434), ('s', 64231), ('h', 62896), ('r', 52134), ('l', 42793), ('d', 38219), ('u', 26697), ('m', 23277), ('c', 22507), ('w', 22222), ('f', 20833), ('g', 20820), ('p', 17255), ('b', 16877), ('y', 16872), ('v', 8598), ('k', 8059), ('q', 1556), ('j', 1082), ('x', 1030), ('z', 632)]\n"
     ]
    }
   ],
   "source": [
    "characters = list(x)\n",
    "d=dict()\n",
    "for c in characters:\n",
    "    if c not in d:\n",
    "        d[c]=1\n",
    "    else:\n",
    "        d[c] += 1\n",
    "\n",
    "sorted_characters = sorted(d.items(), key = lambda x : x[1] ,reverse = True)\n",
    "print('Characters and their frequency is : ' + str(sorted_characters))"
   ]
  }
 ],
 "metadata": {
  "kernelspec": {
   "display_name": "Python [conda root]",
   "language": "python",
   "name": "conda-root-py"
  },
  "language_info": {
   "codemirror_mode": {
    "name": "ipython",
    "version": 3
   },
   "file_extension": ".py",
   "mimetype": "text/x-python",
   "name": "python",
   "nbconvert_exporter": "python",
   "pygments_lexer": "ipython3",
   "version": "3.5.2"
  }
 },
 "nbformat": 4,
 "nbformat_minor": 1
}
