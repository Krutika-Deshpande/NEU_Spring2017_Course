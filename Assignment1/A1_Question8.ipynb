{
 "cells": [
  {
   "cell_type": "markdown",
   "metadata": {},
   "source": [
    "Question 8\n",
    "\n",
    "Use nps_chat and wordlist corpus.\n",
    "If you find a word in nps_chat but not in wordlist, it is considered an unusual word. (e.g. Heyyyy, gr8, 4ever can be considered unusual words for this analysis)\n",
    "Find out how many unusual words people speak in chat (notice: usernames should not be counted)\n",
    "Bonus: What if I want to  count : ) , : ( all these emoticons in. (optional)\n"
   ]
  },
  {
   "cell_type": "code",
   "execution_count": 3,
   "metadata": {
    "collapsed": true
   },
   "outputs": [],
   "source": [
    "import nltk\n",
    "from nltk.corpus import nps_chat\n",
    "from nltk.corpus import words"
   ]
  },
  {
   "cell_type": "code",
   "execution_count": 12,
   "metadata": {
    "collapsed": false
   },
   "outputs": [
    {
     "name": "stdout",
     "output_type": "stream",
     "text": [
      "Words from nps_chat excluding user : 5274\n"
     ]
    }
   ],
   "source": [
    "# nps_chat words not containing user\n",
    "file=nps_chat.fileids()\n",
    "List_word = []\n",
    "from xml.etree import ElementTree as elemenTree\n",
    "for id in file:\n",
    "    rawchat = nps_chat.raw(id)\n",
    "    my_xml = elemenTree.fromstring(rawchat)\n",
    "    for child in my_xml.iter('t'):\n",
    "        List_word.append(child.get('word'))\n",
    "npschat_word_set=set()\n",
    "for words in word_list:\n",
    "    if 'User' not in words:\n",
    "        npschat_word_set.add(words.lower());\n",
    "print('Words from nps_chat excluding user : ' + str(len(npschat_word_set)))"
   ]
  }
 ],
 "metadata": {
  "anaconda-cloud": {},
  "kernelspec": {
   "display_name": "Python [conda root]",
   "language": "python",
   "name": "conda-root-py"
  },
  "language_info": {
   "codemirror_mode": {
    "name": "ipython",
    "version": 3
   },
   "file_extension": ".py",
   "mimetype": "text/x-python",
   "name": "python",
   "nbconvert_exporter": "python",
   "pygments_lexer": "ipython3",
   "version": "3.5.2"
  }
 },
 "nbformat": 4,
 "nbformat_minor": 1
}
