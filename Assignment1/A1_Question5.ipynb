{
 "cells": [
  {
   "cell_type": "markdown",
   "metadata": {},
   "source": [
    "Question 5\n",
    "\n",
    "Use Gutenberg and Web_text data. Find out what are the top 5 words that Shakespeare used but we do not use in currently.\n",
    "Take top 50 words from Shakespeare (all 3 books) and top 50 from Web_text (all the records).\n",
    "Remove punctuation and stop words.\n",
    "Remove the words we still use today, and get the unused list. Show the top 5 elements"
   ]
  },
  {
   "cell_type": "code",
   "execution_count": 1,
   "metadata": {
    "collapsed": true
   },
   "outputs": [],
   "source": [
    "import nltk\n"
   ]
  },
  {
   "cell_type": "code",
   "execution_count": 7,
   "metadata": {
    "collapsed": false,
    "scrolled": true
   },
   "outputs": [
    {
     "data": {
      "text/plain": [
       "['austen-emma.txt',\n",
       " 'austen-persuasion.txt',\n",
       " 'austen-sense.txt',\n",
       " 'bible-kjv.txt',\n",
       " 'blake-poems.txt',\n",
       " 'bryant-stories.txt',\n",
       " 'burgess-busterbrown.txt',\n",
       " 'carroll-alice.txt',\n",
       " 'chesterton-ball.txt',\n",
       " 'chesterton-brown.txt',\n",
       " 'chesterton-thursday.txt',\n",
       " 'edgeworth-parents.txt',\n",
       " 'melville-moby_dick.txt',\n",
       " 'milton-paradise.txt',\n",
       " 'shakespeare-caesar.txt',\n",
       " 'shakespeare-hamlet.txt',\n",
       " 'shakespeare-macbeth.txt',\n",
       " 'whitman-leaves.txt']"
      ]
     },
     "execution_count": 7,
     "metadata": {},
     "output_type": "execute_result"
    }
   ],
   "source": [
    "nltk.corpus.gutenberg.fileids()"
   ]
  },
  {
   "cell_type": "code",
   "execution_count": 3,
   "metadata": {
    "collapsed": false
   },
   "outputs": [
    {
     "data": {
      "text/plain": [
       "['firefox.txt',\n",
       " 'grail.txt',\n",
       " 'overheard.txt',\n",
       " 'pirates.txt',\n",
       " 'singles.txt',\n",
       " 'wine.txt']"
      ]
     },
     "execution_count": 3,
     "metadata": {},
     "output_type": "execute_result"
    }
   ],
   "source": [
    "from nltk.corpus import webtext\n",
    "webtext.fileids()"
   ]
  },
  {
   "cell_type": "code",
   "execution_count": 17,
   "metadata": {
    "collapsed": false
   },
   "outputs": [
    {
     "name": "stdout",
     "output_type": "stream",
     "text": [
      " Top 50 words used by Shakespeare in all 3 books : [('haue', 448), ('ham', 337), ('thou', 312), ('shall', 300), ('lord', 293), ('come', 232), ('king', 231), ('enter', 230), ('good', 218), ('let', 217), ('thy', 202), ('caesar', 193), ('vs', 184), ('know', 176), ('thee', 174), ('would', 170), ('like', 162), ('vpon', 162), ('brutus', 162), ('bru', 153), ('well', 152), ('hath', 144), ('selfe', 143), ('man', 139), ('may', 138), ('macb', 137), ('yet', 136), ('heere', 135), ('say', 130), ('must', 130), ('tis', 129), ('th', 125), ('speake', 119), ('make', 119), ('loue', 119), ('giue', 118), ('see', 116), ('time', 115), ('sir', 114), ('night', 114), ('one', 112), ('st', 110), ('cassi', 107), ('ile', 106), ('doe', 103), ('hamlet', 100), ('go', 100), ('men', 96), ('hor', 95), ('vp', 94)]\n"
     ]
    }
   ],
   "source": [
    "\n",
    "from nltk.corpus import gutenberg\n",
    "FileGutenberg = []\n",
    "FileGutenberg.extend(gutenberg.words('shakespeare-caesar.txt'))\n",
    "FileGutenberg.extend(gutenberg.words('shakespeare-hamlet.txt'))\n",
    "FileGutenberg.extend(gutenberg.words('shakespeare-macbeth.txt'))\n",
    "from collections import Counter\n",
    "shake = [F.lower() for F in FileGutenberg]\n",
    "from nltk.corpus import stopwords\n",
    "filter_file = [word for word in shake if word not in stopwords.words('english')]\n",
    "shakespeare = []\n",
    "for h in filter_file:\n",
    "    if h.isalpha():\n",
    "        shakespeare.append(h)\n",
    "#print(hi)\n",
    "from collections import Counter\n",
    "shakes = Counter(hi)\n",
    "shakespeareWords = shakes.most_common(50)\n",
    "print( ' Top 50 words used by Shakespeare in all 3 books : ' + str(shakespeareWords))\n",
    "\n"
   ]
  },
  {
   "cell_type": "code",
   "execution_count": 18,
   "metadata": {
    "collapsed": false
   },
   "outputs": [
    {
     "name": "stdout",
     "output_type": "stream",
     "text": [
      "Top 5o words used by Webtext : [('girl', 2956), ('guy', 2751), ('like', 1696), ('man', 1075), ('know', 1025), ('woman', 998), ('yeah', 895), ('page', 887), ('firefox', 879), ('get', 869), ('new', 790), ('chick', 714), ('one', 700), ('oh', 682), ('open', 679), ('window', 670), ('good', 644), ('bookmarks', 598), ('teen', 587), ('well', 586), ('firebird', 583), ('cell', 577), ('right', 576), ('go', 564), ('work', 537), ('bar', 536), ('menu', 530), ('tab', 529), ('lady', 524), ('toolbar', 518), ('boy', 488), ('want', 485), ('browser', 484), ('think', 484), ('jack', 483), ('bookmark', 482), ('old', 475), ('really', 473), ('going', 460), ('download', 442), ('url', 440), ('back', 434), ('time', 432), ('black', 422), ('manager', 420), ('little', 419), ('got', 409), ('crash', 396), ('would', 392), ('button', 386)]\n"
     ]
    }
   ],
   "source": [
    "TextWeb = []\n",
    "TextWeb.extend(webtext.words('firefox.txt'))\n",
    "TextWeb.extend(webtext.words('grail.txt'))\n",
    "TextWeb.extend(webtext.words('overheard.txt'))\n",
    "TextWeb.extend(webtext.words('pirates.txt'))\n",
    "TextWeb.extend(webtext.words('singles.txt'))\n",
    "TextWeb.extend(webtext.words('wine.txt'))\n",
    "from collections import Counter\n",
    "web = [T.lower() for T in TextWeb]\n",
    "from nltk.corpus import stopwords\n",
    "filter_text = [word for word in web if word not in stopwords.words('english')]\n",
    "webtext = []\n",
    "for v in filter_text:\n",
    "    if v.isalpha():\n",
    "        webtext.append(v)\n",
    "from collections import Counter\n",
    "webt = Counter(ho)\n",
    "webtextWords = webt.most_common(50)\n",
    "print('Top 5o words used by Webtext : ' + str(webtextWords))"
   ]
  },
  {
   "cell_type": "code",
   "execution_count": 19,
   "metadata": {
    "collapsed": false
   },
   "outputs": [
    {
     "name": "stdout",
     "output_type": "stream",
     "text": [
      "Top 5 Shakespeare words not used today :[('haue', 448), ('vpon', 162), ('brutus', 162), ('bru', 153), ('hath', 144)]\n"
     ]
    }
   ],
   "source": [
    "# top 5 shakespeare words not used today\n",
    "\n",
    "Result = [e for e in shakespeare if e not in webtext]\n",
    "rareWords = Counter(Result)\n",
    "Top5 = rareWords.most_common(5)\n",
    "print('Top 5 Shakespeare words not used today :' + str(Top5))"
   ]
  }
 ],
 "metadata": {
  "anaconda-cloud": {},
  "kernelspec": {
   "display_name": "Python [conda root]",
   "language": "python",
   "name": "conda-root-py"
  },
  "language_info": {
   "codemirror_mode": {
    "name": "ipython",
    "version": 3
   },
   "file_extension": ".py",
   "mimetype": "text/x-python",
   "name": "python",
   "nbconvert_exporter": "python",
   "pygments_lexer": "ipython3",
   "version": "3.5.2"
  }
 },
 "nbformat": 4,
 "nbformat_minor": 1
}
