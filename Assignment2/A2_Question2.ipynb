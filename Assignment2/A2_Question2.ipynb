{
 "cells": [
  {
   "cell_type": "code",
   "execution_count": null,
   "metadata": {
    "collapsed": true
   },
   "outputs": [],
   "source": [
    "Question1: \n",
    "Read all the json files in the folder called Data. \n",
    " There are three categories of json files in this folder. \n",
    "They are identified by the key called “term” in each of the json file. \n",
    " Create a folder structure to read all these json files and store them into these separate folders. \n",
    "You are expected to create a hierarchy of folder structure. \n",
    " Example:  You can place all restaurants json files in a particular country (say Australia) in the same folder.\n",
    "How you group the json files and create a folder structure is your choice. Your task is to identify criteria by which you can group all these json files and store them. \n",
    " (You could use these keys to create hierarchy and store json files: Country, city, categories)\n"
   ]
  },
  {
   "cell_type": "code",
   "execution_count": 25,
   "metadata": {
    "collapsed": false
   },
   "outputs": [],
   "source": [
    "import os, json\n",
    "import pandas as pd\n",
    "import shutil\n",
    "path_to_json = '/Users/kruts/DataAnalysis4Python_Spring17-master/Assignment 2/Data'\n",
    "path_file= 'DataProcessed'\n",
    "path = 'C:/Users/kruts/DataAnalysis4Python_Spring17-master/Assignment 2'\n",
    "json_files = [pos_json for pos_json in os.listdir(path_to_json) if pos_json.endswith('.json')]\n",
    "#print (json_files)  \n"
   ]
  },
  {
   "cell_type": "code",
   "execution_count": 26,
   "metadata": {
    "collapsed": false
   },
   "outputs": [],
   "source": [
    "def ensure_dir(path_file):\n",
    "    #directory = os.path.dirname(path_file)\n",
    "    if not os.path.exists(path_file):\n",
    "        os.makedirs(path_file)\n",
    "    #return directory"
   ]
  },
  {
   "cell_type": "code",
   "execution_count": 27,
   "metadata": {
    "collapsed": false
   },
   "outputs": [],
   "source": [
    "import glob\n",
    "file = \"*.json\"\n",
    "#os.makedirs('Data Processed in Folder') #creating relative folder"
   ]
  },
  {
   "cell_type": "code",
   "execution_count": null,
   "metadata": {
    "collapsed": false
   },
   "outputs": [],
   "source": [
    "from shutil import copy\n",
    "import glob \n",
    "for js in glob.glob(os.path.join(path_to_json,file)):\n",
    "            json_file_read = json.loads(open(js).read())\n",
    "            for key,value in json_file_read.items():\n",
    "                if key == 'location': # creation of folders\n",
    "                \n",
    "                    country = value.get('country')\n",
    "                    state = value.get('state')\n",
    "                    city = value.get('city')\n",
    "                    path = os.path.join(path_file + '/' + country)\n",
    "                    path = os.path.join(path + '/' + state)\n",
    "                    path = os.path.join(path + '/' + city)\n",
    "                    \n",
    "                    #path = os.path.join(path + '/' + js)\n",
    "                if key == 'term':\n",
    "                    term = json_file_read.get('term')\n",
    "                    path = os.path.join(path + '/' + term)\n",
    "                    ensure_dir(path)\n",
    "                    copy(js,path)\n",
    "            "
   ]
  },
  {
   "cell_type": "markdown",
   "metadata": {},
   "source": [
    "Question 2:\n",
    "Read all the json files in the folder called Data. \n",
    " Read only the json files which contain the key called “restaurants” \n",
    " Each (or most of the json files) contain a key called “open” which contains the details of the operation (timings) of the restaurants. For each json file, read the timings of the restaurants. \n",
    " Data of the operation timings of the restaurants is present for each day of the week. I want you to extract each of this data and write it in an excel sheet.\n",
    " Example:  For a particular restaurant named “The Coffee Grounds”, the excel sheet should look like this:"
   ]
  },
  {
   "cell_type": "code",
   "execution_count": 14,
   "metadata": {
    "collapsed": false
   },
   "outputs": [],
   "source": [
    "import csv\n",
    "import datetime\n",
    "csvfile = open('C:/Users/kruts/Assignment2.csv','w',newline=\"\",encoding='utf-8',errors = 'ignore')\n",
    "writer = csv.writer(csvfile)\n",
    "writer.writerow(['Restaurant Name','City','Country','Week Day','Start Time in Hours','Start Time in Minutes','End Time in Hours','End Time in Minutes'])\n",
    "for js in glob.glob(os.path.join(path_to_json,file)):\n",
    "            loaded_file = json.loads(open(js).read())\n",
    "            for key,value in loaded_file.items():\n",
    "                if value=='restaurants': #taking json files with term as restaurant\n",
    "                    name=loaded_file['name']\n",
    "                    for key,value in loaded_file.items():\n",
    "                        if key=='location':\n",
    "                            city=value.get('city')\n",
    "                            country=value.get('country')\n",
    "                            for key,value in loaded_file.items():       \n",
    "                                if key=='hours':\n",
    "                                    for v in value:\n",
    "                                        for k,v in v.items():\n",
    "                                            if k=='open':\n",
    "                                                for a in v:\n",
    "                                                    st= datetime.datetime.strptime(a['start'],\"%H%M\")\n",
    "                                                    end=datetime.datetime.strptime(a['end'],\"%H%M\")\n",
    "                                                    writer.writerow([name,city,country,a['day'],st.hour,st.minute,end.hour,end.minute])"
   ]
  }
 ],
 "metadata": {
  "anaconda-cloud": {},
  "kernelspec": {
   "display_name": "Python [conda root]",
   "language": "python",
   "name": "conda-root-py"
  },
  "language_info": {
   "codemirror_mode": {
    "name": "ipython",
    "version": 3
   },
   "file_extension": ".py",
   "mimetype": "text/x-python",
   "name": "python",
   "nbconvert_exporter": "python",
   "pygments_lexer": "ipython3",
   "version": "3.5.2"
  }
 },
 "nbformat": 4,
 "nbformat_minor": 1
}
