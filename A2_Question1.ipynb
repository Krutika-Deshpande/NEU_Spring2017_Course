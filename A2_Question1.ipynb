{
 "cells": [
  {
   "cell_type": "markdown",
   "metadata": {},
   "source": [
    "Zipf’s law:     r * freq = A * N r = word rank freq = word frequency A = constant. N = total number of words in collections \n",
    "Learn and understand Zipf’s Law. \n",
    " Pick any file (or files) in NLTK package.\n",
    " Prove if Zipf’s Law works in Natural Language or not. "
   ]
  },
  {
   "cell_type": "code",
   "execution_count": 16,
   "metadata": {
    "collapsed": false,
    "scrolled": true
   },
   "outputs": [
    {
     "name": "stdout",
     "output_type": "stream",
     "text": [
      "['austen-emma.txt', 'austen-persuasion.txt', 'austen-sense.txt', 'bible-kjv.txt', 'blake-poems.txt', 'bryant-stories.txt', 'burgess-busterbrown.txt', 'carroll-alice.txt', 'chesterton-ball.txt', 'chesterton-brown.txt', 'chesterton-thursday.txt', 'edgeworth-parents.txt', 'melville-moby_dick.txt', 'milton-paradise.txt', 'shakespeare-caesar.txt', 'shakespeare-hamlet.txt', 'shakespeare-macbeth.txt', 'whitman-leaves.txt']\n"
     ]
    }
   ],
   "source": [
    "import nltk\n",
    "from nltk.corpus import gutenberg\n",
    "print(gutenberg.fileids())\n",
    "import glob"
   ]
  },
  {
   "cell_type": "code",
   "execution_count": 231,
   "metadata": {
    "collapsed": false
   },
   "outputs": [],
   "source": [
    "path =  nltk.data.find('corpora/gutenberg/austen-sense.txt')\n",
    "data = glob.glob(path)\n",
    "for words in data:\n",
    "    with open(words) as text:\n",
    "        t = text.read()  "
   ]
  },
  {
   "cell_type": "code",
   "execution_count": 232,
   "metadata": {
    "collapsed": false,
    "scrolled": true
   },
   "outputs": [
    {
     "name": "stdout",
     "output_type": "stream",
     "text": [
      "90180\n"
     ]
    }
   ],
   "source": [
    "import re\n",
    "words = re.findall(r'(\\b[A-Za-z][a-z]{2,9}\\b)',t )\n",
    "\n",
    "#print(words)\n",
    "N = len(words) # N = total number of words in the file\n",
    "print(N)"
   ]
  },
  {
   "cell_type": "code",
   "execution_count": 233,
   "metadata": {
    "collapsed": false
   },
   "outputs": [],
   "source": [
    "d=dict()\n",
    "for c in words:\n",
    "    if c not in d:\n",
    "        d[c]=1\n",
    "    else:\n",
    "        d[c] += 1\n",
    "\n",
    "sorted_words = sorted(d.items(), key = lambda x : x[1] ,reverse = True)\n",
    "#print('Words and their frequency is : ' + str(sorted_words))"
   ]
  },
  {
   "cell_type": "code",
   "execution_count": 234,
   "metadata": {
    "collapsed": false
   },
   "outputs": [],
   "source": [
    "import csv\n",
    "with open(('austen-sense.csv'), 'w', newline=\"\") as csvfile:\n",
    "            csv_output = csv.writer(csvfile)\n",
    "            csv_output.writerow(['Word', 'Freq', 'Rank'])\n",
    "            rank = 1\n",
    "            for row in sorted_words:\n",
    "                csv_output.writerow([row[0], row[1], rank])\n",
    "                rank +=1\n",
    "                csvfile.close\n"
   ]
  },
  {
   "cell_type": "code",
   "execution_count": 236,
   "metadata": {
    "collapsed": false
   },
   "outputs": [
    {
     "data": {
      "image/png": "[encoded data removed]",
      "text/plain": [
       "<matplotlib.figure.Figure at 0x1a1711d0c50>"
      ]
     },
     "metadata": {},
     "output_type": "display_data"
    }
   ],
   "source": [
    "import matplotlib.pyplot as plt\n",
    "csvfile = open('austen-sense.csv', 'r')\n",
    "w=[]\n",
    "f=[]\n",
    "r=[]\n",
    "csv_f=csv.reader(csvfile)\n",
    "for row in csv_f:\n",
    "    w.append(row[0])\n",
    "    f.append(row[1])\n",
    "    r.append(row[2])\n",
    "r.pop(0)\n",
    "f.pop(0)\n",
    "plt.loglog(f,r,color='r',linewidth=2)\n",
    "plt.grid(True)\n",
    "plt.title(\"Zipf plot for Gutenberg corpus \")\n",
    "plt.xlabel(\"Log rank\")\n",
    "plt.ylabel(\"Log frequency\")\n",
    "plt.show()"
   ]
  }
 ],
 "metadata": {
  "anaconda-cloud": {},
  "kernelspec": {
   "display_name": "Python [conda root]",
   "language": "python",
   "name": "conda-root-py"
  },
  "language_info": {
   "codemirror_mode": {
    "name": "ipython",
    "version": 3
   },
   "file_extension": ".py",
   "mimetype": "text/x-python",
   "name": "python",
   "nbconvert_exporter": "python",
   "pygments_lexer": "ipython3",
   "version": "3.5.2"
  }
 },
 "nbformat": 4,
 "nbformat_minor": 1
}
